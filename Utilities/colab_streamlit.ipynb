{
  "nbformat": 4,
  "nbformat_minor": 0,
  "metadata": {
    "colab": {
      "provenance": []
    },
    "kernelspec": {
      "name": "python3",
      "display_name": "Python 3"
    },
    "language_info": {
      "name": "python"
    }
  },
  "cells": [
    {
      "cell_type": "markdown",
      "source": [
        "# Running Streamlit on Google Colab"
      ],
      "metadata": {
        "id": "ELfVIeTvpNnp"
      }
    },
    {
      "cell_type": "markdown",
      "source": [
        "## Installing dependencies"
      ],
      "metadata": {
        "id": "WdXzaz7cq7YU"
      }
    },
    {
      "cell_type": "code",
      "execution_count": null,
      "metadata": {
        "id": "ZMklyAM-pM_v"
      },
      "outputs": [],
      "source": [
        "# Install streamlit\n",
        "# note that this method works for any Python packages you may want to add\n",
        "\n",
        "!pip install streamlit"
      ]
    },
    {
      "cell_type": "code",
      "source": [
        "# Install Node library localtunnel\n",
        "# You don't need to understand this\n",
        "!npm install localtunnel"
      ],
      "metadata": {
        "id": "3ty3dPRSpdtb"
      },
      "execution_count": null,
      "outputs": []
    },
    {
      "cell_type": "markdown",
      "source": [
        "## Run streamlit"
      ],
      "metadata": {
        "id": "vX-D1kG8q-gN"
      }
    },
    {
      "cell_type": "markdown",
      "source": [
        "### Create a streamlit application\n",
        "Replace this with an upload of the appropriate streamlit application."
      ],
      "metadata": {
        "id": "PWxqJecjrDTv"
      }
    },
    {
      "cell_type": "code",
      "source": [
        "%%writefile app.py\n",
        "\n",
        "import streamlit as st\n",
        "\n",
        "st.write('Hello, *World!* :sunglasses:')"
      ],
      "metadata": {
        "id": "joug8xupp-i_"
      },
      "execution_count": null,
      "outputs": []
    },
    {
      "cell_type": "code",
      "source": [
        "# Run streamlit\n",
        "# Make sure you upload an 'app.py' file containing a streamlit application\n",
        "!streamlit run app.py &>/content/logs.txt &"
      ],
      "metadata": {
        "id": "yhrIQl83puaU"
      },
      "execution_count": 4,
      "outputs": []
    },
    {
      "cell_type": "markdown",
      "source": [
        "## Obtaining streamlits IP address\n",
        "In the created file `logs.txt` you should see two IPv4 adresses.\n",
        "Select 'external url' **minus** the port.\n",
        "\n",
        "In my case:\n",
        "```  You can now view your Streamlit app in your browser.\n",
        "\n",
        "  Network URL: http://172.28.0.12:8501\n",
        "  External URL: http://34.139.1.17:8501\n",
        "```\n",
        "\n",
        "I copy:\n",
        "`34.139.1.17`"
      ],
      "metadata": {
        "id": "jTAjlNGVqJnj"
      }
    },
    {
      "cell_type": "markdown",
      "source": [
        "### Access streamlit through tunnel"
      ],
      "metadata": {
        "id": "F8bXfauVrOm7"
      }
    },
    {
      "cell_type": "code",
      "source": [
        "# Run localtunnel\n",
        "\n",
        "!npx localtunnel --port 8501"
      ],
      "metadata": {
        "colab": {
          "base_uri": "https://localhost:8080/"
        },
        "id": "eA4qiNO7p5vk",
        "outputId": "154e7b97-c85c-452f-dc29-71a0833c47a0"
      },
      "execution_count": 5,
      "outputs": [
        {
          "output_type": "stream",
          "name": "stdout",
          "text": [
            "\u001b[K\u001b[?25hnpx: installed 22 in 2.117s\n",
            "your url is: https://nine-impalas-accept.loca.lt\n",
            "^C\n"
          ]
        }
      ]
    },
    {
      "cell_type": "markdown",
      "source": [
        "This command outputs an url you can visit.\n",
        "\n",
        "There, paste the external url you copied above in `tunnel password`.\n",
        "\n",
        "Then, submit to take you to streamlit."
      ],
      "metadata": {
        "id": "4lDgPHZfrVLf"
      }
    }
  ]
}